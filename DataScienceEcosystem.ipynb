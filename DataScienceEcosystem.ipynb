{
 "cells": [
  {
   "cell_type": "markdown",
   "id": "4c7f6c6f-deff-4868-bb81-a95a0271dd38",
   "metadata": {},
   "source": [
    "# Data Science Tools and Ecosystem"
   ]
  },
  {
   "cell_type": "markdown",
   "id": "a278af57-7705-4caa-842b-0bf99d5f8a34",
   "metadata": {},
   "source": [
    "In this notebook, Data Science Tools and Ecosystem are summarized."
   ]
  },
  {
   "cell_type": "markdown",
   "id": "2f44d4d1-9f0d-4aa6-b7f0-0016c3c5fdbf",
   "metadata": {},
   "source": [
    "**Objectives:**\n",
    "* List popular languages used in Data Science\n",
    "* List commonly used libraries in Data Science\n",
    "* Show examples of Data Science Tools\n",
    "* Execute a simple arithmetic expression\n",
    "* Convert a quantity of minutes to the equivalent in hours"
   ]
  },
  {
   "cell_type": "markdown",
   "id": "7170539f-db96-4c41-9001-eb1a65f8d3da",
   "metadata": {},
   "source": [
    "Some of the popular languages that Data Scientists use are:\n",
    "1. Python\n",
    "1. R\n",
    "1. SQL\n",
    "1. Scala\n",
    "1. MATLAB"
   ]
  },
  {
   "cell_type": "markdown",
   "id": "74ec01db-32c7-47d2-914a-ce275396d936",
   "metadata": {},
   "source": [
    "Some of the commonly used libraries used by Data Scientists include:\n",
    "1. Matplotlib\n",
    "2. Scikit-learn\n",
    "3. NumPy\n",
    "4. Pandas\n",
    "5. SciPy\n",
    "6. TensorFlow"
   ]
  },
  {
   "cell_type": "markdown",
   "id": "e1341d18-a99f-44ad-97b7-6cc7324ef110",
   "metadata": {},
   "source": [
    "### Data Science Tools\n",
    "| Jupyter Notebook |\n",
    "| Apache Spark |\n",
    "| Apache Hadoop |"
   ]
  },
  {
   "cell_type": "markdown",
   "id": "a944da56-2ca6-4802-98ac-668b05b3e587",
   "metadata": {},
   "source": [
    "### Below are a few examples of evaluating arithmetic expressions in Python"
   ]
  },
  {
   "cell_type": "code",
   "execution_count": 1,
   "id": "0dbfb56c-1695-497e-9eae-f5f99de3bff9",
   "metadata": {},
   "outputs": [
    {
     "data": {
      "text/plain": [
       "17"
      ]
     },
     "execution_count": 1,
     "metadata": {},
     "output_type": "execute_result"
    }
   ],
   "source": [
    "# This a simple arithmetic expression to mutiply then add integers\n",
    "\n",
    "(3*4)+5"
   ]
  },
  {
   "cell_type": "code",
   "execution_count": 4,
   "id": "87a7f366-2c7d-4da4-ac0b-75f3bbf80069",
   "metadata": {},
   "outputs": [
    {
     "name": "stdout",
     "output_type": "stream",
     "text": [
      "3.3333333333333335\n"
     ]
    }
   ],
   "source": [
    "# This will convert 200 minutes to hours by dividing by 60\n",
    "\n",
    "minutes = 200\n",
    "hours = minutes / 60\n",
    "\n",
    "print(hours)"
   ]
  },
  {
   "cell_type": "markdown",
   "id": "5165fded-ba7a-489f-a915-7c0e387ca3a2",
   "metadata": {},
   "source": [
    "** Author\n",
    "Jay Huber"
   ]
  }
 ],
 "metadata": {
  "kernelspec": {
   "display_name": "Python 3 (ipykernel)",
   "language": "python",
   "name": "python3"
  },
  "language_info": {
   "codemirror_mode": {
    "name": "ipython",
    "version": 3
   },
   "file_extension": ".py",
   "mimetype": "text/x-python",
   "name": "python",
   "nbconvert_exporter": "python",
   "pygments_lexer": "ipython3",
   "version": "3.12.7"
  }
 },
 "nbformat": 4,
 "nbformat_minor": 5
}
